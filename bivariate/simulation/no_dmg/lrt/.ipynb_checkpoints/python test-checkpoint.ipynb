{
 "cells": [
  {
   "cell_type": "code",
   "execution_count": 4,
   "id": "6e3e0e14",
   "metadata": {},
   "outputs": [
    {
     "name": "stdout",
     "output_type": "stream",
     "text": [
      "0.19155548003340506\n"
     ]
    }
   ],
   "source": [
    "import numpy as np\n",
    "from scipy.integrate import quad\n",
    "\n",
    "# Bivariate normal PDF\n",
    "# Equivalent to R's biv_pdf function\n",
    "def biv_pdf(x, y, mu, sigma, rho, log=False):\n",
    "    rho_part = 1 - rho**2\n",
    "    if rho_part <= 0:\n",
    "        rho_part = 0.000001  # To prevent division by zero or negative values\n",
    "\n",
    "    factor_part = 2 * np.pi * sigma[0] * sigma[1] * np.sqrt(rho_part)\n",
    "    exp_part = ((x - mu[0]) / sigma[0])**2 + ((y - mu[1]) / sigma[1])**2\n",
    "    exp_part -= 2 * rho * (x - mu[0]) * (y - mu[1]) / (sigma[0] * sigma[1])\n",
    "    exp_part = -exp_part / (2 * rho_part)\n",
    "\n",
    "    if log:\n",
    "        return exp_part - np.log(factor_part)\n",
    "    else:\n",
    "        return np.exp(exp_part) / factor_part\n",
    "\n",
    "# Equivalent to R's dmg_int_inner function\n",
    "def dmg_int_inner(x, y, mu, sigma, rho, eta, alpha, l):\n",
    "    sd_x = sigma[0]\n",
    "    sd_y = sigma[1]\n",
    "    # Adjusted value of y\n",
    "    adjusted_y = y + (mu[1] / mu[0]) * alpha * (l / eta - x)\n",
    "    return biv_pdf(x, adjusted_y, mu, sigma, rho)\n",
    "\n",
    "# Equivalent to R's dmg_int function\n",
    "def dmg_int(y, mu, sigma, rho, eta, alpha, l):\n",
    "    # Use scipy's quad to perform the integration\n",
    "    result, _ = quad(dmg_int_inner, l, l / eta, args=(y, mu, sigma, rho, eta, alpha, l), epsabs=1e-5)\n",
    "    return result\n",
    "\n",
    "# Example usage (requires biv_pdf to be implemented)\n",
    "mu = [45, 5.5]\n",
    "sigma = [13, 1]\n",
    "rho = .7\n",
    "eta = .7\n",
    "alpha = .2\n",
    "l_value = 41.70649\n",
    "# rho = correlation_coefficient\n",
    "result = dmg_int(6, mu, sigma, rho, eta, alpha, l_value)\n",
    "print(result)"
   ]
  },
  {
   "cell_type": "code",
   "execution_count": 5,
   "id": "cda96cbe",
   "metadata": {},
   "outputs": [
    {
     "name": "stdout",
     "output_type": "stream",
     "text": [
      "27.4 µs ± 196 ns per loop (mean ± std. dev. of 7 runs, 10,000 loops each)\n"
     ]
    }
   ],
   "source": [
    "%timeit dmg_int(6, mu, sigma, rho, eta, alpha, l_value)"
   ]
  },
  {
   "cell_type": "code",
   "execution_count": null,
   "id": "bf33d98e",
   "metadata": {},
   "outputs": [],
   "source": [
    "import numpy as np\n",
    "from scipy.stats import multivariate_normal, norm\n",
    "\n",
    "# Equivalent to R's logit function\n",
    "def logit(x):\n",
    "    return np.log(x / (1 - x))\n",
    "\n",
    "# Equivalent to R's expit function\n",
    "def expit(x):\n",
    "    return 1 / (1 + np.exp(-x))"
   ]
  },
  {
   "cell_type": "code",
   "execution_count": null,
   "id": "05c01017",
   "metadata": {},
   "outputs": [],
   "source": [
    "def dmg_model(samples, eta, alpha, l, mu):\n",
    "    # Check if l > samples[:, 0] * eta for each row\n",
    "    condition = l > samples[:, 0] * eta\n",
    "    adjusted_values = samples[:, 1] - (mu[1] / mu[0]) * alpha * (l / eta - samples[:, 0])\n",
    "    \n",
    "    # If condition is True, calculate damage; otherwise, use undamaged value\n",
    "    return np.where(condition, adjusted_values, samples[:, 1])\n",
    "def int_function(y_star, mu, sigma, rho, l):\n",
    "    a_l = (l - mu[0] - rho * (sigma[0] / sigma[1]) * (y_star - mu[1])) / (sigma[0] * np.sqrt(1 - rho**2))\n",
    "    return norm.pdf(y_star, loc=mu[1], scale=sigma[1]) * (1 - norm.cdf(a_l))\n",
    "\n",
    "\n",
    "def PFY_lik(mu, sigma, rho, eta, alpha, l, data):\n",
    "    part_1 = np.sum(norm.logpdf(data[data[:, 2] == 1, 0], loc=mu[0], scale=sigma[0]))\n",
    "    \n",
    "    dmg_int_values = np.array([dmg_int(y, mu, sigma, rho, eta, alpha, l) for y in data[data[:, 2] == 0, 1]])\n",
    "    int_function_values = np.array([int_function(y, mu, sigma, rho, 1/eta * l) for y in data[data[:, 2] == 0, 1]])\n",
    "    \n",
    "    part_2 = np.sum(np.log(dmg_int_values + int_function_values))\n",
    "    \n",
    "    return part_1 + part_2\n",
    "\n",
    "\n",
    "from numpy.random import multivariate_normal\n",
    "\n",
    "def pl_gen(mu, sigma, rho, eta, alpha, l, N):\n",
    "    cov_matrix = np.array([\n",
    "        [sigma[0]**2, sigma[0] * sigma[1] * rho],\n",
    "        [sigma[0] * sigma[1] * rho, sigma[1]**2]\n",
    "    ])\n",
    "    return multivariate_normal(mean=mu, cov=cov_matrix, size=N)"
   ]
  }
 ],
 "metadata": {
  "kernelspec": {
   "display_name": "Python 3 (ipykernel)",
   "language": "python",
   "name": "python3"
  },
  "language_info": {
   "codemirror_mode": {
    "name": "ipython",
    "version": 3
   },
   "file_extension": ".py",
   "mimetype": "text/x-python",
   "name": "python",
   "nbconvert_exporter": "python",
   "pygments_lexer": "ipython3",
   "version": "3.11.2"
  }
 },
 "nbformat": 4,
 "nbformat_minor": 5
}
