{
 "cells": [
  {
   "cell_type": "code",
   "execution_count": 92,
   "id": "c902be80",
   "metadata": {},
   "outputs": [],
   "source": [
    "import numpy as np\n",
    "import scipy\n",
    "from scipy.integrate import quad\n",
    "from scipy.stats import multivariate_normal, norm\n",
    "from scipy.optimize import minimize\n",
    "\n",
    "# Equivalent to R's logit function\n",
    "def logit(x):\n",
    "    return np.log(x / (1 - x))\n",
    "\n",
    "# Equivalent to R's expit function\n",
    "def expit(x):\n",
    "    return 1 / (1 + np.exp(-x))\n",
    "# Bivariate normal PDF\n",
    "# Equivalent to R's biv_pdf function\n",
    "def biv_pdf(x, y, mu, sigma, rho, log=False):\n",
    "    rho_part = 1 - rho**2\n",
    "    if rho_part <= 0:\n",
    "        rho_part = 0.000001  # To prevent division by zero or negative values\n",
    "\n",
    "    factor_part = 2 * np.pi * sigma[0] * sigma[1] * np.sqrt(rho_part)\n",
    "    exp_part = ((x - mu[0]) / sigma[0])**2 + ((y - mu[1]) / sigma[1])**2\n",
    "    exp_part -= 2 * rho * (x - mu[0]) * (y - mu[1]) / (sigma[0] * sigma[1])\n",
    "    exp_part = -exp_part / (2 * rho_part)\n",
    "\n",
    "    if log:\n",
    "        return exp_part - np.log(factor_part)\n",
    "    else:\n",
    "        return np.exp(exp_part) / factor_part\n",
    "\n",
    "# Equivalent to R's dmg_int_inner function\n",
    "def dmg_int_inner(x, y, mu, sigma, rho, eta, alpha, l):\n",
    "    sd_x = sigma[0]\n",
    "    sd_y = sigma[1]\n",
    "    # Adjusted value of y\n",
    "    adjusted_y = y + (mu[1] / mu[0]) * alpha * (l / eta - x)\n",
    "    return biv_pdf(x, adjusted_y, mu, sigma, rho)\n",
    "\n",
    "# Equivalent to R's dmg_int function\n",
    "def dmg_int(y, mu, sigma, rho, eta, alpha, l):\n",
    "    # Use scipy's quad to perform the integration\n",
    "    result, _ = quad(dmg_int_inner, l, l / eta, args=(y, mu, sigma, rho, eta, alpha, l), epsabs=1e-5)\n",
    "    return result\n",
    "\n",
    "\n",
    "def dmg_model(samples, eta, alpha, l, mu):\n",
    "    # Check if l > samples[:, 0] * eta for each row\n",
    "    condition = l > samples[:, 0] * eta\n",
    "    adjusted_values = samples[:, 1] - (mu[1] / mu[0]) * alpha * (l / eta - samples[:, 0])\n",
    "    \n",
    "    # If condition is True, calculate damage; otherwise, use undamaged value\n",
    "    return np.where(condition, adjusted_values, samples[:, 1])\n",
    "def int_function(y_star, mu, sigma, rho, l):\n",
    "    a_l = (l - mu[0] - rho * (sigma[0] / sigma[1]) * (y_star - mu[1])) / (sigma[0] * np.sqrt(1 - rho**2))\n",
    "    return norm.pdf(y_star, loc=mu[1], scale=sigma[1]) * (1 - norm.cdf(a_l))\n",
    "\n",
    "\n",
    "def PFY_lik(mu, sigma, rho, eta, alpha, l, data):\n",
    "    part_1 = np.sum(norm.logpdf(data[data[:, 2] == 1, 0], loc=mu[0], scale=sigma[0]))\n",
    "    \n",
    "    dmg_int_values = np.array([dmg_int(y, mu, sigma, rho, eta, alpha, l) for y in data[data[:, 2] == 0, 1]])\n",
    "    int_function_values = np.array([int_function(y, mu, sigma, rho, 1/eta * l) for y in data[data[:, 2] == 0, 1]])\n",
    "    \n",
    "    part_2 = np.sum(np.log(dmg_int_values + int_function_values))\n",
    "    \n",
    "    return part_1 + part_2\n",
    "\n",
    "\n",
    "def pl_gen(mu, sigma, rho, eta, alpha, l, N):\n",
    "    # Covariance matrix\n",
    "    cov_matrix = np.array([\n",
    "        [sigma[0]**2, sigma[0] * sigma[1] * rho],\n",
    "        [sigma[0] * sigma[1] * rho, sigma[1]**2]\n",
    "    ])\n",
    "    # Generate samples from bivariate normal distribution\n",
    "    samples = np.random.multivariate_normal(mean=mu, cov=cov_matrix, size=N)\n",
    "    res = np.zeros((samples.shape[0], samples.shape[1] + 1))\n",
    "    \n",
    "    # Fail in the proof loading\n",
    "    fail_ids = samples[:, 0] < l\n",
    "    res[fail_ids, 0] = samples[fail_ids, 0]\n",
    "    res[fail_ids, 2] = 1\n",
    "    \n",
    "    # Survive in the proof loading\n",
    "    survive_ids = samples[:, 0] >= l\n",
    "    res[survive_ids, 1] = dmg_model(samples[survive_ids], eta, alpha, l, mu)\n",
    "    res[survive_ids, 2] = 0\n",
    "    \n",
    "    return res\n"
   ]
  },
  {
   "cell_type": "code",
   "execution_count": 121,
   "id": "382ff1b6",
   "metadata": {},
   "outputs": [],
   "source": [
    "# Example usage (requires biv_pdf to be implemented)\n",
    "mu = [45, 5.5]\n",
    "sigma = [13, 1]\n",
    "rho = .7\n",
    "eta = .7\n",
    "alpha = 0\n",
    "\n",
    "# rho = correlation_coefficient\n",
    "N = 87\n",
    "\n",
    "R_pf = norm.ppf([0.2, 0.4, 0.6], loc=mu[0], scale=sigma[0])\n",
    "T_pf = norm.ppf([0.2, 0.4, 0.6], loc=mu[1], scale=sigma[1])\n",
    "l = R_pf[1]\n",
    "pf_data = pl_gen(mu, sigma, rho, eta, alpha, l, N)\n",
    "#print(pf_data)"
   ]
  },
  {
   "cell_type": "code",
   "execution_count": 122,
   "id": "c582da92",
   "metadata": {},
   "outputs": [],
   "source": [
    "theta0  = [mu[0],mu[1],\n",
    "           sigma[0],sigma[1],logit(rho),logit(eta),alpha]\n"
   ]
  },
  {
   "cell_type": "code",
   "execution_count": 123,
   "id": "ef69b9e5",
   "metadata": {},
   "outputs": [
    {
     "data": {
      "text/plain": [
       "-242.5807017830876"
      ]
     },
     "execution_count": 123,
     "metadata": {},
     "output_type": "execute_result"
    }
   ],
   "source": [
    "PFY_lik(mu, sigma, rho, eta, alpha, l, pf_data)"
   ]
  },
  {
   "cell_type": "code",
   "execution_count": 124,
   "id": "a9d31f79",
   "metadata": {},
   "outputs": [],
   "source": [
    "def alpha_checkR(theta, R_group, T_group, R_pl, T_pl, shoulder_group):\n",
    "    mu = theta[0:2]\n",
    "    sigma = theta[2:4]\n",
    "    rho = expit(theta[4])\n",
    "    eta = expit(theta[5])\n",
    "    alpha = theta[6]\n",
    "    \n",
    "    # Likelihood calculations\n",
    "    lik = (PFY_lik(mu, sigma, rho, 1, 0, R_pl, R_group) +\n",
    "           PFY_lik([mu[1], mu[0]], [sigma[1], sigma[0]], rho, eta, alpha, T_pl, T_group) +\n",
    "           np.sum(norm.logpdf(shoulder_group[0], loc=mu[0], scale=sigma[0])) +\n",
    "           np.sum(norm.logpdf(shoulder_group[1], loc=mu[1], scale=sigma[1])))\n",
    "    \n",
    "    # Handle infinite likelihood\n",
    "    if np.isinf(lik):\n",
    "        lik = -10000\n",
    "    \n",
    "    return -1 * lik\n",
    "\n",
    "def single_fitalpha(theta, group, group_pl, group_name, shoulder_group):\n",
    "    mu = theta[0:2]\n",
    "    sigma = theta[2:4]\n",
    "    rho = theta[4]\n",
    "    eta = theta[5]\n",
    "    alpha = theta[6]\n",
    "    \n",
    "    if group_name == \"R\":\n",
    "        lik = PFY_lik(mu, sigma, rho, eta, alpha, group_pl, group)\n",
    "    elif group_name == \"T\":\n",
    "        lik = PFY_lik([mu[1], mu[0]], [sigma[1], sigma[0]], rho, eta, alpha, group_pl, group)\n",
    "    \n",
    "    lik += (np.sum(norm.logpdf(shoulder_group[0], loc=mu[0], scale=sigma[0])) +\n",
    "            np.sum(norm.logpdf(shoulder_group[1], loc=mu[1], scale=sigma[1])))\n",
    "    \n",
    "    if np.isinf(lik):\n",
    "        lik = -10000\n",
    "    \n",
    "    return -1 * lik\n",
    "\n",
    "# Equivalent to R's single_alpha0 function\n",
    "def single_alpha0(theta, group, group_pl, group_name, shoulder_group):\n",
    "    mu = theta[0:2]\n",
    "    sigma = theta[2:4]\n",
    "    rho = expit(theta[4])\n",
    "    \n",
    "    if group_name == \"R\":\n",
    "        lik = PFY_lik(mu, sigma, rho, 1, 0, group_pl, group)\n",
    "    elif group_name == \"T\":\n",
    "        lik = PFY_lik([mu[1], mu[0]], [sigma[1], sigma[0]], rho, 1, 0, group_pl, group)\n",
    "    \n",
    "    lik += (np.sum(norm.logpdf(shoulder_group[0], loc=mu[0], scale=sigma[0])) +\n",
    "            np.sum(norm.logpdf(shoulder_group[1], loc=mu[1], scale=sigma[1])))\n",
    "    \n",
    "    if np.isinf(lik):\n",
    "        lik = -10000\n",
    "    \n",
    "    return -1 * lik\n",
    "\n",
    "\n",
    "def llr_sim(data, shoulder_group, theta0, group_pl):\n",
    "    # Optimization step for single_alpha0\n",
    "    optim_checkR = minimize(single_alpha0, theta0[0:5], args=(data, group_pl, \"R\", shoulder_group))\n",
    "    llr_checkR = 2 * optim_checkR.fun\n",
    "    \n",
    "    # Optimization step for single_fitalpha\n",
    "    bounds = [(30, 70), (0.1, 40), (0.1, 30), (0.1, 10), (0.03, 0.97), (0.03, 0.97), (-2, 10)]\n",
    "    optimout = minimize(single_fitalpha, theta0, \n",
    "                        args=(data, group_pl, \"R\", shoulder_group), \n",
    "                        method=\"L-BFGS-B\", bounds=bounds)\n",
    "    llr_full = 2 * optimout.fun\n",
    "    \n",
    "    # Calculate LLR statistic\n",
    "    llr_stat = llr_checkR - llr_full\n",
    "    return llr_stat\n",
    "\n",
    "def ecdf(x):\n",
    "    x = np.sort(x)\n",
    "    n = len(x)\n",
    "    def _ecdf(v):\n",
    "        # side='right' because we want Pr(x <= v)\n",
    "        return (np.searchsorted(x, v, side='right') + 1) / n\n",
    "    return _ecdf"
   ]
  },
  {
   "cell_type": "code",
   "execution_count": 125,
   "id": "bc13eec8",
   "metadata": {},
   "outputs": [],
   "source": [
    "np.random.seed(42)  # Set seed for reproducibility\n",
    "pf_data = pl_gen(mu, sigma, rho, eta, alpha, l, N)\n",
    "R100_data = np.random.normal(loc=mu[0], scale=sigma[0], size=2 * N)\n",
    "T100_data = np.random.normal(loc=mu[1], scale=sigma[1], size=2 * N)\n",
    "shoulder_group = [R100_data, T100_data]\n"
   ]
  },
  {
   "cell_type": "code",
   "execution_count": 158,
   "id": "e1a37b3f",
   "metadata": {},
   "outputs": [],
   "source": [
    "def lrt_fit(jj,theta0):\n",
    "    np.random.seed(jj)  # Set seed for reproducibility\n",
    "    pf_data = pl_gen(mu, sigma, rho, eta, alpha, l, N)\n",
    "    R100_data = np.random.normal(loc=mu[0], scale=sigma[0], size=2 * N)\n",
    "    T100_data = np.random.normal(loc=mu[1], scale=sigma[1], size=2 * N)\n",
    "    shoulder_group = [R100_data, T100_data]\n",
    "\n",
    "\n",
    "\n",
    "    optim_checkR = minimize(single_alpha0, theta0[0:5], args=(pf_data, l, \"R\", shoulder_group),\n",
    "                           method = \"Nelder-Mead\")\n",
    "    llr_checkR = 2 * optim_checkR.fun\n",
    "    theta_est = optim_checkR.x\n",
    "    # # Optimization step for single_fitalpha\n",
    "    bounds = [(30, 70), (0.1, 40), (0.1, 30), (0.1, 10), (0.01, 0.99), (0.01, 0.99), (-2, 10)]\n",
    "    optimout = minimize(single_fitalpha, theta0, \n",
    "                        args=(pf_data,l, \"R\", shoulder_group), \n",
    "                        method=\"L-BFGS-B\", bounds=bounds)\n",
    "    llr_full = 2 * optimout.fun\n",
    "    end_time = time.time()\n",
    "    llr_stat = llr_checkR - llr_full\n",
    "    return [jj,llr_stat,*theta_est.tolist()]\n"
   ]
  },
  {
   "cell_type": "code",
   "execution_count": 159,
   "id": "b7384f72",
   "metadata": {},
   "outputs": [
    {
     "name": "stderr",
     "output_type": "stream",
     "text": [
      "/var/folders/0x/z947m7157nn9jf8zfnx8w9zw0000gn/T/ipykernel_7257/1550408679.py:64: RuntimeWarning: divide by zero encountered in log\n",
      "/var/folders/0x/z947m7157nn9jf8zfnx8w9zw0000gn/T/ipykernel_7257/1550408679.py:64: RuntimeWarning: divide by zero encountered in log\n",
      "/var/folders/0x/z947m7157nn9jf8zfnx8w9zw0000gn/T/ipykernel_7257/1550408679.py:64: RuntimeWarning: divide by zero encountered in log\n",
      "/var/folders/0x/z947m7157nn9jf8zfnx8w9zw0000gn/T/ipykernel_7257/1550408679.py:64: RuntimeWarning: divide by zero encountered in log\n",
      "/var/folders/0x/z947m7157nn9jf8zfnx8w9zw0000gn/T/ipykernel_7257/1550408679.py:64: RuntimeWarning: divide by zero encountered in log\n",
      "/var/folders/0x/z947m7157nn9jf8zfnx8w9zw0000gn/T/ipykernel_7257/1550408679.py:64: RuntimeWarning: divide by zero encountered in log\n",
      "/var/folders/0x/z947m7157nn9jf8zfnx8w9zw0000gn/T/ipykernel_7257/1550408679.py:64: RuntimeWarning: divide by zero encountered in log\n",
      "/var/folders/0x/z947m7157nn9jf8zfnx8w9zw0000gn/T/ipykernel_7257/1550408679.py:64: RuntimeWarning: divide by zero encountered in log\n",
      "/var/folders/0x/z947m7157nn9jf8zfnx8w9zw0000gn/T/ipykernel_7257/1550408679.py:64: RuntimeWarning: divide by zero encountered in log\n",
      "/var/folders/0x/z947m7157nn9jf8zfnx8w9zw0000gn/T/ipykernel_7257/1550408679.py:64: RuntimeWarning: divide by zero encountered in log\n",
      "/var/folders/0x/z947m7157nn9jf8zfnx8w9zw0000gn/T/ipykernel_7257/1550408679.py:64: RuntimeWarning: divide by zero encountered in log\n",
      "/var/folders/0x/z947m7157nn9jf8zfnx8w9zw0000gn/T/ipykernel_7257/1550408679.py:64: RuntimeWarning: divide by zero encountered in log\n",
      "/var/folders/0x/z947m7157nn9jf8zfnx8w9zw0000gn/T/ipykernel_7257/1550408679.py:64: RuntimeWarning: divide by zero encountered in log\n",
      "/var/folders/0x/z947m7157nn9jf8zfnx8w9zw0000gn/T/ipykernel_7257/1550408679.py:64: RuntimeWarning: divide by zero encountered in log\n",
      "/var/folders/0x/z947m7157nn9jf8zfnx8w9zw0000gn/T/ipykernel_7257/1550408679.py:64: RuntimeWarning: divide by zero encountered in log\n",
      "/var/folders/0x/z947m7157nn9jf8zfnx8w9zw0000gn/T/ipykernel_7257/1550408679.py:64: RuntimeWarning: divide by zero encountered in log\n",
      "/var/folders/0x/z947m7157nn9jf8zfnx8w9zw0000gn/T/ipykernel_7257/1550408679.py:64: RuntimeWarning: divide by zero encountered in log\n",
      "/var/folders/0x/z947m7157nn9jf8zfnx8w9zw0000gn/T/ipykernel_7257/1550408679.py:64: RuntimeWarning: divide by zero encountered in log\n",
      "/var/folders/0x/z947m7157nn9jf8zfnx8w9zw0000gn/T/ipykernel_7257/1550408679.py:64: RuntimeWarning: divide by zero encountered in log\n",
      "/var/folders/0x/z947m7157nn9jf8zfnx8w9zw0000gn/T/ipykernel_7257/1550408679.py:64: RuntimeWarning: divide by zero encountered in log\n",
      "/var/folders/0x/z947m7157nn9jf8zfnx8w9zw0000gn/T/ipykernel_7257/1550408679.py:64: RuntimeWarning: divide by zero encountered in log\n",
      "/var/folders/0x/z947m7157nn9jf8zfnx8w9zw0000gn/T/ipykernel_7257/1550408679.py:64: RuntimeWarning: divide by zero encountered in log\n",
      "/var/folders/0x/z947m7157nn9jf8zfnx8w9zw0000gn/T/ipykernel_7257/1550408679.py:64: RuntimeWarning: divide by zero encountered in log\n",
      "/var/folders/0x/z947m7157nn9jf8zfnx8w9zw0000gn/T/ipykernel_7257/1550408679.py:64: RuntimeWarning: divide by zero encountered in log\n",
      "/var/folders/0x/z947m7157nn9jf8zfnx8w9zw0000gn/T/ipykernel_7257/1550408679.py:64: RuntimeWarning: divide by zero encountered in log\n",
      "/var/folders/0x/z947m7157nn9jf8zfnx8w9zw0000gn/T/ipykernel_7257/1550408679.py:64: RuntimeWarning: divide by zero encountered in log\n",
      "/var/folders/0x/z947m7157nn9jf8zfnx8w9zw0000gn/T/ipykernel_7257/1550408679.py:64: RuntimeWarning: divide by zero encountered in log\n",
      "/var/folders/0x/z947m7157nn9jf8zfnx8w9zw0000gn/T/ipykernel_7257/1550408679.py:64: RuntimeWarning: divide by zero encountered in log\n",
      "/var/folders/0x/z947m7157nn9jf8zfnx8w9zw0000gn/T/ipykernel_7257/1550408679.py:64: RuntimeWarning: divide by zero encountered in log\n",
      "/var/folders/0x/z947m7157nn9jf8zfnx8w9zw0000gn/T/ipykernel_7257/1550408679.py:64: RuntimeWarning: divide by zero encountered in log\n",
      "/var/folders/0x/z947m7157nn9jf8zfnx8w9zw0000gn/T/ipykernel_7257/1550408679.py:64: RuntimeWarning: divide by zero encountered in log\n",
      "/var/folders/0x/z947m7157nn9jf8zfnx8w9zw0000gn/T/ipykernel_7257/1550408679.py:64: RuntimeWarning: divide by zero encountered in log\n",
      "/var/folders/0x/z947m7157nn9jf8zfnx8w9zw0000gn/T/ipykernel_7257/1550408679.py:64: RuntimeWarning: divide by zero encountered in log\n",
      "/var/folders/0x/z947m7157nn9jf8zfnx8w9zw0000gn/T/ipykernel_7257/1550408679.py:64: RuntimeWarning: divide by zero encountered in log\n",
      "/var/folders/0x/z947m7157nn9jf8zfnx8w9zw0000gn/T/ipykernel_7257/1550408679.py:64: RuntimeWarning: divide by zero encountered in log\n",
      "/var/folders/0x/z947m7157nn9jf8zfnx8w9zw0000gn/T/ipykernel_7257/1550408679.py:64: RuntimeWarning: divide by zero encountered in log\n",
      "/var/folders/0x/z947m7157nn9jf8zfnx8w9zw0000gn/T/ipykernel_7257/1550408679.py:64: RuntimeWarning: divide by zero encountered in log\n",
      "/var/folders/0x/z947m7157nn9jf8zfnx8w9zw0000gn/T/ipykernel_7257/1550408679.py:64: RuntimeWarning: divide by zero encountered in log\n",
      "/var/folders/0x/z947m7157nn9jf8zfnx8w9zw0000gn/T/ipykernel_7257/1550408679.py:64: RuntimeWarning: divide by zero encountered in log\n",
      "/var/folders/0x/z947m7157nn9jf8zfnx8w9zw0000gn/T/ipykernel_7257/1550408679.py:64: RuntimeWarning: divide by zero encountered in log\n",
      "/var/folders/0x/z947m7157nn9jf8zfnx8w9zw0000gn/T/ipykernel_7257/1550408679.py:64: RuntimeWarning: divide by zero encountered in log\n",
      "/var/folders/0x/z947m7157nn9jf8zfnx8w9zw0000gn/T/ipykernel_7257/1550408679.py:64: RuntimeWarning: divide by zero encountered in log\n",
      "/var/folders/0x/z947m7157nn9jf8zfnx8w9zw0000gn/T/ipykernel_7257/1550408679.py:64: RuntimeWarning: divide by zero encountered in log\n",
      "/var/folders/0x/z947m7157nn9jf8zfnx8w9zw0000gn/T/ipykernel_7257/1550408679.py:64: RuntimeWarning: divide by zero encountered in log\n",
      "/var/folders/0x/z947m7157nn9jf8zfnx8w9zw0000gn/T/ipykernel_7257/1550408679.py:64: RuntimeWarning: divide by zero encountered in log\n",
      "/var/folders/0x/z947m7157nn9jf8zfnx8w9zw0000gn/T/ipykernel_7257/1550408679.py:64: RuntimeWarning: divide by zero encountered in log\n",
      "/var/folders/0x/z947m7157nn9jf8zfnx8w9zw0000gn/T/ipykernel_7257/1550408679.py:64: RuntimeWarning: divide by zero encountered in log\n",
      "/var/folders/0x/z947m7157nn9jf8zfnx8w9zw0000gn/T/ipykernel_7257/1550408679.py:64: RuntimeWarning: divide by zero encountered in log\n",
      "/var/folders/0x/z947m7157nn9jf8zfnx8w9zw0000gn/T/ipykernel_7257/1550408679.py:64: RuntimeWarning: divide by zero encountered in log\n",
      "/var/folders/0x/z947m7157nn9jf8zfnx8w9zw0000gn/T/ipykernel_7257/1550408679.py:64: RuntimeWarning: divide by zero encountered in log\n",
      "/var/folders/0x/z947m7157nn9jf8zfnx8w9zw0000gn/T/ipykernel_7257/1550408679.py:64: RuntimeWarning: divide by zero encountered in log\n",
      "/var/folders/0x/z947m7157nn9jf8zfnx8w9zw0000gn/T/ipykernel_7257/1550408679.py:64: RuntimeWarning: divide by zero encountered in log\n",
      "/var/folders/0x/z947m7157nn9jf8zfnx8w9zw0000gn/T/ipykernel_7257/1550408679.py:64: RuntimeWarning: divide by zero encountered in log\n",
      "/var/folders/0x/z947m7157nn9jf8zfnx8w9zw0000gn/T/ipykernel_7257/1550408679.py:64: RuntimeWarning: divide by zero encountered in log\n",
      "/var/folders/0x/z947m7157nn9jf8zfnx8w9zw0000gn/T/ipykernel_7257/1550408679.py:64: RuntimeWarning: divide by zero encountered in log\n",
      "/var/folders/0x/z947m7157nn9jf8zfnx8w9zw0000gn/T/ipykernel_7257/1550408679.py:64: RuntimeWarning: divide by zero encountered in log\n",
      "/var/folders/0x/z947m7157nn9jf8zfnx8w9zw0000gn/T/ipykernel_7257/1550408679.py:64: RuntimeWarning: divide by zero encountered in log\n",
      "/var/folders/0x/z947m7157nn9jf8zfnx8w9zw0000gn/T/ipykernel_7257/1550408679.py:64: RuntimeWarning: divide by zero encountered in log\n",
      "/var/folders/0x/z947m7157nn9jf8zfnx8w9zw0000gn/T/ipykernel_7257/1550408679.py:64: RuntimeWarning: divide by zero encountered in log\n",
      "/var/folders/0x/z947m7157nn9jf8zfnx8w9zw0000gn/T/ipykernel_7257/1550408679.py:64: RuntimeWarning: divide by zero encountered in log\n",
      "/var/folders/0x/z947m7157nn9jf8zfnx8w9zw0000gn/T/ipykernel_7257/1550408679.py:64: RuntimeWarning: divide by zero encountered in log\n",
      "/var/folders/0x/z947m7157nn9jf8zfnx8w9zw0000gn/T/ipykernel_7257/1550408679.py:64: RuntimeWarning: divide by zero encountered in log\n",
      "/var/folders/0x/z947m7157nn9jf8zfnx8w9zw0000gn/T/ipykernel_7257/1550408679.py:64: RuntimeWarning: divide by zero encountered in log\n"
     ]
    },
    {
     "name": "stderr",
     "output_type": "stream",
     "text": [
      "/var/folders/0x/z947m7157nn9jf8zfnx8w9zw0000gn/T/ipykernel_7257/1550408679.py:64: RuntimeWarning: divide by zero encountered in log\n",
      "/var/folders/0x/z947m7157nn9jf8zfnx8w9zw0000gn/T/ipykernel_7257/1550408679.py:64: RuntimeWarning: divide by zero encountered in log\n",
      "/var/folders/0x/z947m7157nn9jf8zfnx8w9zw0000gn/T/ipykernel_7257/1550408679.py:64: RuntimeWarning: divide by zero encountered in log\n"
     ]
    }
   ],
   "source": [
    "import joblib\n",
    "N_rep = 200\n",
    "numbers = range(N_rep)\n",
    "results = joblib.Parallel(n_jobs=8)(joblib.delayed(lrt_fit)(num,theta0) for num in numbers)"
   ]
  },
  {
   "cell_type": "code",
   "execution_count": 162,
   "id": "70b56410",
   "metadata": {},
   "outputs": [
    {
     "data": {
      "text/plain": [
       "array([43.54396558, 45.41377216, 44.3168373 , 46.68082367, 46.44134282,\n",
       "       44.45749392, 46.04969592, 44.43757652, 45.05130379, 45.0889602 ,\n",
       "       44.94683952, 43.94345879, 44.909987  , 45.42505887, 45.20033938,\n",
       "       45.40941066, 44.0394525 , 43.69968144, 43.4313857 , 45.50214313,\n",
       "       44.93280527, 45.25230584, 45.39079399, 44.95205385, 43.94833298,\n",
       "       45.56140189, 46.00168123, 44.18681632, 44.56307872, 44.49025411,\n",
       "       44.63280801, 46.44548567, 44.58159266, 46.23224831, 44.69303591,\n",
       "       43.88307181, 44.47211964, 43.89304276, 44.64640596, 45.0627134 ,\n",
       "       45.08280457, 44.27081703, 46.0826102 , 44.85537605, 45.3386103 ,\n",
       "       46.43506338, 45.50235179, 44.29222324, 45.6616406 , 45.41339637,\n",
       "       45.07989374, 43.35055011, 45.43480995, 43.55038197, 45.69593676,\n",
       "       44.42460709, 44.93714182, 44.22610017, 43.04713178, 44.51500205,\n",
       "       44.11147025, 44.76727139, 45.10980429, 45.54240095, 46.14263053,\n",
       "       45.52887262, 45.24238655, 45.69789301, 46.34073215, 43.27707954,\n",
       "       44.95189945, 46.92155374, 44.02602947, 44.39777248, 45.88135096,\n",
       "       46.09758319, 45.07389831, 43.87519762, 45.05604154, 44.94992781,\n",
       "       46.25312674, 45.70804115, 43.95413245, 44.68093404, 44.20913891,\n",
       "       45.82867355, 45.05454844, 45.45293798, 45.71965513, 45.91015513,\n",
       "       44.31791375, 44.64971928, 46.28425436, 45.3057931 , 45.86697682,\n",
       "       44.04228411, 45.19413459, 46.21706376, 46.10380214, 45.03968731,\n",
       "       47.24427716, 45.50361675, 44.99614096, 44.38109926, 45.23999038,\n",
       "       45.91044224, 44.24335201, 45.53035247, 45.27418215, 45.23869345,\n",
       "       45.5802336 , 44.7318191 , 46.70186136, 45.19469051, 45.85784544,\n",
       "       45.89787393, 44.76124002, 45.46212125, 43.35270792, 44.78574831,\n",
       "       45.65879431, 44.10269737, 45.84514876, 43.29550801, 44.54855103,\n",
       "       46.62815068, 44.92703866, 44.82226144, 45.07725447, 43.91935051,\n",
       "       44.29630092, 44.26553695, 46.6121509 , 45.70847228, 43.92738102,\n",
       "       44.13123046, 45.66802936, 44.73428342, 44.22505565, 43.88298728,\n",
       "       45.23354804, 45.97184061, 46.35213952, 46.15317184, 44.33261687,\n",
       "       44.86833018, 44.91533073, 46.89687744, 45.12744408, 46.46496767,\n",
       "       45.24065191, 44.44782286, 44.81087532, 44.26025159, 44.14858967,\n",
       "       45.24185233, 45.58601643, 44.13758752, 44.28987495, 44.2988779 ,\n",
       "       45.32748338, 44.53066636, 45.39651198, 44.91533066, 44.75582416,\n",
       "       45.49645411, 44.33026968, 45.00145403, 45.43269969, 43.77921329,\n",
       "       45.15766426, 45.48109805, 44.72058612, 45.0449118 , 46.09914086,\n",
       "       43.44173109, 44.90368599, 44.32139661, 44.20590299, 45.11643788,\n",
       "       45.63891871, 44.77339038, 45.28355037, 45.631044  , 46.27897205,\n",
       "       45.20859146, 44.46998263, 44.61590823, 45.73628141, 45.62841325,\n",
       "       44.06932575, 45.07321926, 45.00494378, 45.49659187, 46.08348326,\n",
       "       44.78092555, 46.34917779, 44.7922931 , 44.83188255, 43.43177639])"
      ]
     },
     "execution_count": 162,
     "metadata": {},
     "output_type": "execute_result"
    }
   ],
   "source": [
    "res = np.array(results)\n",
    "res[:,2]"
   ]
  },
  {
   "cell_type": "code",
   "execution_count": 153,
   "id": "be26151f",
   "metadata": {},
   "outputs": [
    {
     "data": {
      "text/plain": [
       "array([   41.        ,            nan,  -557.42515301,  -148.02179079,\n",
       "        -437.16340988, -1247.56541804,  -161.95517564])"
      ]
     },
     "execution_count": 153,
     "metadata": {},
     "output_type": "execute_result"
    }
   ],
   "source": [
    "res[41,]"
   ]
  },
  {
   "cell_type": "code",
   "execution_count": 154,
   "id": "b849a390",
   "metadata": {},
   "outputs": [
    {
     "name": "stderr",
     "output_type": "stream",
     "text": [
      "/var/folders/0x/z947m7157nn9jf8zfnx8w9zw0000gn/T/ipykernel_7257/1550408679.py:13: RuntimeWarning: overflow encountered in exp\n",
      "  return 1 / (1 + np.exp(-x))\n",
      "/var/folders/0x/z947m7157nn9jf8zfnx8w9zw0000gn/T/ipykernel_7257/1550408679.py:64: RuntimeWarning: divide by zero encountered in log\n",
      "  part_2 = np.sum(np.log(dmg_int_values + int_function_values))\n"
     ]
    }
   ],
   "source": [
    "np.random.seed(4)  # Set seed for reproducibility\n",
    "pf_data = pl_gen(mu, sigma, rho, eta, alpha, l, N)\n",
    "R100_data = np.random.normal(loc=mu[0], scale=sigma[0], size=2 * N)\n",
    "T100_data = np.random.normal(loc=mu[1], scale=sigma[1], size=2 * N)\n",
    "shoulder_group = [R100_data, T100_data]\n",
    "\n",
    "\n",
    "\n",
    "optim_checkR = minimize(single_alpha0, theta0[0:5], args=(pf_data, l, \"R\", shoulder_group))\n",
    "llr_checkR = 2 * optim_checkR.fun\n",
    "theta_est = optim_checkR.x\n",
    "# # Optimization step for single_fitalpha\n",
    "bounds = [(30, 70), (0.1, 40), (0.1, 30), (0.1, 10), (0.01, 0.99), (0.01, 0.99), (-2, 10)]\n",
    "optimout = minimize(single_fitalpha, theta0, \n",
    "                    args=(pf_data,l, \"R\", shoulder_group), \n",
    "                    method=\"L-BFGS-B\", bounds=bounds)\n",
    "llr_full = 2 * optimout.fun\n",
    "end_time = time.time()\n",
    "llr_stat = llr_checkR - llr_full"
   ]
  },
  {
   "cell_type": "code",
   "execution_count": 157,
   "id": "41a4b2c4",
   "metadata": {},
   "outputs": [
    {
     "data": {
      "text/plain": [
       "       message: Optimization terminated successfully.\n",
       "       success: True\n",
       "        status: 0\n",
       "           fun: 1169.273354416332\n",
       "             x: [ 4.644e+01  5.533e+00  1.384e+01  9.039e-01  2.282e-01]\n",
       "           nit: 208\n",
       "          nfev: 343\n",
       " final_simplex: (array([[ 4.644e+01,  5.533e+00, ...,  9.039e-01,\n",
       "                         2.282e-01],\n",
       "                       [ 4.644e+01,  5.533e+00, ...,  9.039e-01,\n",
       "                         2.281e-01],\n",
       "                       ...,\n",
       "                       [ 4.644e+01,  5.533e+00, ...,  9.039e-01,\n",
       "                         2.281e-01],\n",
       "                       [ 4.644e+01,  5.533e+00, ...,  9.039e-01,\n",
       "                         2.281e-01]]), array([ 1.169e+03,  1.169e+03,  1.169e+03,  1.169e+03,\n",
       "                        1.169e+03,  1.169e+03]))"
      ]
     },
     "execution_count": 157,
     "metadata": {},
     "output_type": "execute_result"
    }
   ],
   "source": [
    "optim_checkR = minimize(single_alpha0, theta0[0:5], args=(pf_data, l, \"R\", shoulder_group),\n",
    "                       method = \"Nelder-Mead\")\n",
    "optim_checkR "
   ]
  },
  {
   "cell_type": "code",
   "execution_count": 111,
   "id": "b798f502",
   "metadata": {},
   "outputs": [
    {
     "data": {
      "text/plain": [
       "1.0"
      ]
     },
     "execution_count": 111,
     "metadata": {},
     "output_type": "execute_result"
    }
   ],
   "source": [
    "# def ecdf(data):\n",
    "#     # Rank data and divide by the number of points to calculate ECDF\n",
    "#     sorted_data = np.sort(data)\n",
    "#     return lambda x: np.searchsorted(sorted_data, x, side='right') / len(data)\n",
    "\n",
    "\n",
    "\n",
    "np.random.seed(1)\n",
    "data = np.random.normal(loc=0, scale=1, size=2000)\n",
    "ecdf(data)(np.nan)"
   ]
  },
  {
   "cell_type": "code",
   "execution_count": null,
   "id": "a9efa210",
   "metadata": {},
   "outputs": [],
   "source": []
  },
  {
   "cell_type": "code",
   "execution_count": 74,
   "id": "222ef79c",
   "metadata": {},
   "outputs": [],
   "source": [
    "res = np.zeros((200,7))\n",
    "\n",
    "jj = 0\n",
    "np.random.seed(jj)  # Set seed for reproducibility\n",
    "pf_data = pl_gen(mu, sigma, rho, eta, alpha, l, N)\n",
    "R100_data = np.random.normal(loc=mu[0], scale=sigma[0], size=2 * N)\n",
    "T100_data = np.random.normal(loc=mu[1], scale=sigma[1], size=2 * N)\n",
    "shoulder_group = [R100_data, T100_data]\n",
    "\n",
    "\n",
    "\n",
    "optim_checkR = minimize(single_alpha0, theta0[0:5], args=(pf_data, l, \"R\", shoulder_group))\n",
    "llr_checkR = 2 * optim_checkR.fun\n",
    "theta_est = optim_checkR.x\n",
    "# # Optimization step for single_fitalpha\n",
    "bounds = [(30, 70), (0.1, 40), (0.1, 30), (0.1, 10), (0.01, 0.99), (0.01, 0.99), (-2, 10)]\n",
    "optimout = minimize(single_fitalpha, theta0, \n",
    "                    args=(pf_data,l, \"R\", shoulder_group), \n",
    "                    method=\"L-BFGS-B\", bounds=bounds)\n",
    "llr_full = 2 * optimout.fun\n",
    "end_time = time.time()\n",
    "llr_stat = llr_checkR - llr_full\n",
    "llr_stat \n",
    "res[jj,:] = [jj,llr_stat,*theta_est.tolist()]\n"
   ]
  },
  {
   "cell_type": "code",
   "execution_count": 76,
   "id": "5ee35f0b",
   "metadata": {},
   "outputs": [
    {
     "data": {
      "text/plain": [
       "array([ 0.        ,  6.13204411, 43.63029646,  5.43060899, 12.71142531,\n",
       "        1.02380281,  1.30212692])"
      ]
     },
     "execution_count": 76,
     "metadata": {},
     "output_type": "execute_result"
    }
   ],
   "source": []
  }
 ],
 "metadata": {
  "kernelspec": {
   "display_name": "Python 3 (ipykernel)",
   "language": "python",
   "name": "python3"
  },
  "language_info": {
   "codemirror_mode": {
    "name": "ipython",
    "version": 3
   },
   "file_extension": ".py",
   "mimetype": "text/x-python",
   "name": "python",
   "nbconvert_exporter": "python",
   "pygments_lexer": "ipython3",
   "version": "3.11.2"
  }
 },
 "nbformat": 4,
 "nbformat_minor": 5
}
