{
 "cells": [
  {
   "cell_type": "code",
   "execution_count": 1,
   "id": "6e3e0e14",
   "metadata": {},
   "outputs": [
    {
     "name": "stdout",
     "output_type": "stream",
     "text": [
      "0.19155548003340506\n"
     ]
    }
   ],
   "source": [
    "import numpy as np\n",
    "from scipy.integrate import quad\n",
    "\n",
    "# Bivariate normal PDF\n",
    "# Equivalent to R's biv_pdf function\n",
    "def biv_pdf(x, y, mu, sigma, rho, log=False):\n",
    "    rho_part = 1 - rho**2\n",
    "    if rho_part <= 0:\n",
    "        rho_part = 0.000001  # To prevent division by zero or negative values\n",
    "\n",
    "    factor_part = 2 * np.pi * sigma[0] * sigma[1] * np.sqrt(rho_part)\n",
    "    exp_part = ((x - mu[0]) / sigma[0])**2 + ((y - mu[1]) / sigma[1])**2\n",
    "    exp_part -= 2 * rho * (x - mu[0]) * (y - mu[1]) / (sigma[0] * sigma[1])\n",
    "    exp_part = -exp_part / (2 * rho_part)\n",
    "\n",
    "    if log:\n",
    "        return exp_part - np.log(factor_part)\n",
    "    else:\n",
    "        return np.exp(exp_part) / factor_part\n",
    "\n",
    "# Equivalent to R's dmg_int_inner function\n",
    "def dmg_int_inner(x, y, mu, sigma, rho, eta, alpha, l):\n",
    "    sd_x = sigma[0]\n",
    "    sd_y = sigma[1]\n",
    "    # Adjusted value of y\n",
    "    adjusted_y = y + (mu[1] / mu[0]) * alpha * (l / eta - x)\n",
    "    return biv_pdf(x, adjusted_y, mu, sigma, rho)\n",
    "\n",
    "# Equivalent to R's dmg_int function\n",
    "def dmg_int(y, mu, sigma, rho, eta, alpha, l):\n",
    "    # Use scipy's quad to perform the integration\n",
    "    result, _ = quad(dmg_int_inner, l, l / eta, args=(y, mu, sigma, rho, eta, alpha, l), epsabs=1e-5)\n",
    "    return result\n",
    "\n",
    "# Example usage (requires biv_pdf to be implemented)\n",
    "mu = [45, 5.5]\n",
    "sigma = [13, 1]\n",
    "rho = .7\n",
    "eta = .7\n",
    "alpha = .2\n",
    "l_value = 41.70649\n",
    "# rho = correlation_coefficient\n",
    "result = dmg_int(6, mu, sigma, rho, eta, alpha, l_value)\n",
    "print(result)"
   ]
  },
  {
   "cell_type": "code",
   "execution_count": 2,
   "id": "bf33d98e",
   "metadata": {},
   "outputs": [],
   "source": [
    "import numpy as np\n",
    "from scipy.stats import multivariate_normal, norm\n",
    "\n",
    "# Equivalent to R's logit function\n",
    "def logit(x):\n",
    "    return np.log(x / (1 - x))\n",
    "\n",
    "# Equivalent to R's expit function\n",
    "def expit(x):\n",
    "    return 1 / (1 + np.exp(-x))"
   ]
  },
  {
   "cell_type": "code",
   "execution_count": 6,
   "id": "05c01017",
   "metadata": {},
   "outputs": [],
   "source": [
    "def dmg_model(samples, eta, alpha, l, mu):\n",
    "    # Check if l > samples[:, 0] * eta for each row\n",
    "    condition = l > samples[:, 0] * eta\n",
    "    adjusted_values = samples[:, 1] - (mu[1] / mu[0]) * alpha * (l / eta - samples[:, 0])\n",
    "    \n",
    "    # If condition is True, calculate damage; otherwise, use undamaged value\n",
    "    return np.where(condition, adjusted_values, samples[:, 1])\n",
    "def int_function(y_star, mu, sigma, rho, l):\n",
    "    a_l = (l - mu[0] - rho * (sigma[0] / sigma[1]) * (y_star - mu[1])) / (sigma[0] * np.sqrt(1 - rho**2))\n",
    "    return norm.pdf(y_star, loc=mu[1], scale=sigma[1]) * (1 - norm.cdf(a_l))\n",
    "\n",
    "\n",
    "def PFY_lik(mu, sigma, rho, eta, alpha, l, data):\n",
    "    part_1 = np.sum(norm.logpdf(data[data[:, 2] == 1, 0], loc=mu[0], scale=sigma[0]))\n",
    "    \n",
    "    dmg_int_values = np.array([dmg_int(y, mu, sigma, rho, eta, alpha, l) for y in data[data[:, 2] == 0, 1]])\n",
    "    int_function_values = np.array([int_function(y, mu, sigma, rho, 1/eta * l) for y in data[data[:, 2] == 0, 1]])\n",
    "    \n",
    "    part_2 = np.sum(np.log(dmg_int_values + int_function_values))\n",
    "    \n",
    "    return part_1 + part_2\n",
    "\n",
    "\n",
    "from numpy.random import multivariate_normal\n",
    "\n",
    "def pl_gen(mu, sigma, rho, eta, alpha, l, N):\n",
    "    # Covariance matrix\n",
    "    cov_matrix = np.array([\n",
    "        [sigma[0]**2, sigma[0] * sigma[1] * rho],\n",
    "        [sigma[0] * sigma[1] * rho, sigma[1]**2]\n",
    "    ])\n",
    "    # Generate samples from bivariate normal distribution\n",
    "    samples = multivariate_normal(mean=mu, cov=cov_matrix, size=N)\n",
    "    res = np.zeros((samples.shape[0], samples.shape[1] + 1))\n",
    "    \n",
    "    # Fail in the proof loading\n",
    "    fail_ids = samples[:, 0] < l\n",
    "    res[fail_ids, 0] = samples[fail_ids, 0]\n",
    "    res[fail_ids, 2] = 1\n",
    "    \n",
    "    # Survive in the proof loading\n",
    "    survive_ids = samples[:, 0] >= l\n",
    "    res[survive_ids, 1] = dmg_model(samples[survive_ids], eta, alpha, l, mu)\n",
    "    res[survive_ids, 2] = 0\n",
    "    \n",
    "    return res"
   ]
  },
  {
   "cell_type": "code",
   "execution_count": 30,
   "id": "fd6a95ee",
   "metadata": {},
   "outputs": [],
   "source": [
    "import pandas as pd\n",
    "bvn1 = pd.read_csv(\"bvn1.csv\")\n",
    "bvn1 = np.array(bvn1)[:,1:3]\n",
    "#bvn1\n",
    "def pl_gen(bvn1, eta, alpha, l, N):\n",
    "    # Covariance matrix\n",
    "    samples = bvn1\n",
    "    res = np.zeros((samples.shape[0], samples.shape[1] + 1))\n",
    "    \n",
    "    # Fail in the proof loading\n",
    "    fail_ids = samples[:, 0] < l\n",
    "    res[fail_ids, 0] = samples[fail_ids, 0]\n",
    "    res[fail_ids, 2] = 1\n",
    "    \n",
    "    # Survive in the proof loading\n",
    "    survive_ids = samples[:, 0] >= l\n",
    "    res[survive_ids, 1] = dmg_model(samples[survive_ids], eta, alpha, l, mu)\n",
    "    res[survive_ids, 2] = 0\n",
    "    \n",
    "    return res\n",
    "\n",
    "\n",
    "pf_data = pl_gen(bvn1, eta, alpha, l, N)"
   ]
  },
  {
   "cell_type": "code",
   "execution_count": 53,
   "id": "0888d7e8",
   "metadata": {},
   "outputs": [
    {
     "name": "stdout",
     "output_type": "stream",
     "text": [
      "3.79 ms ± 192 µs per loop (mean ± std. dev. of 7 runs, 100 loops each)\n"
     ]
    }
   ],
   "source": [
    "def PFY_lik(mu, sigma, rho, eta, alpha, l, data):\n",
    "    # the next line is the same \n",
    "    part_1 = np.sum(norm.logpdf(data[data[:, 2] == 1, 0], loc=mu[0], scale=sigma[0]))\n",
    "    # test this line \n",
    "    dmg_int_values = np.array([dmg_int(y, mu, sigma, rho, eta, alpha, l) for y in data[data[:, 2] == 0, 1]])\n",
    "    # the next line is the same\n",
    "    int_function_values = np.array([int_function(y, mu, sigma, rho, 1/eta * l) for y in data[data[:, 2] == 0, 1]])\n",
    "    \n",
    "    part_2 = np.sum(np.log(dmg_int_values + int_function_values))\n",
    "    \n",
    "    return part_2 + part_1\n",
    "%timeit PFY_lik(mu, sigma, rho, eta, alpha, l, pf_data)\n"
   ]
  },
  {
   "cell_type": "code",
   "execution_count": 47,
   "id": "fdc02e7e",
   "metadata": {},
   "outputs": [
    {
     "data": {
      "text/plain": [
       "-101.09331377297238"
      ]
     },
     "execution_count": 47,
     "metadata": {},
     "output_type": "execute_result"
    }
   ],
   "source": [
    "dmg_data = pf_data[pf_data[:, 2] == 0, 1]\n",
    "dmg_int_values = np.array([dmg_int(y, mu, sigma, rho, eta, alpha, l) for y in dmg_data])\n",
    "np.sum(np.log(dmg_int_values))"
   ]
  },
  {
   "cell_type": "code",
   "execution_count": 48,
   "id": "82d22e0c",
   "metadata": {},
   "outputs": [
    {
     "data": {
      "text/plain": [
       "-192.42103972561273"
      ]
     },
     "execution_count": 48,
     "metadata": {},
     "output_type": "execute_result"
    }
   ],
   "source": [
    "int_function_values = np.array([int_function(y, mu, sigma, rho, 1/eta * l) for y in dmg_data])\n",
    "np.sum(np.log(int_function_values))"
   ]
  },
  {
   "cell_type": "code",
   "execution_count": null,
   "id": "e98e7893",
   "metadata": {},
   "outputs": [],
   "source": []
  }
 ],
 "metadata": {
  "kernelspec": {
   "display_name": "Python 3 (ipykernel)",
   "language": "python",
   "name": "python3"
  },
  "language_info": {
   "codemirror_mode": {
    "name": "ipython",
    "version": 3
   },
   "file_extension": ".py",
   "mimetype": "text/x-python",
   "name": "python",
   "nbconvert_exporter": "python",
   "pygments_lexer": "ipython3",
   "version": "3.11.2"
  }
 },
 "nbformat": 4,
 "nbformat_minor": 5
}
